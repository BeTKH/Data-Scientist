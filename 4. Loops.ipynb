{
 "cells": [
  {
   "cell_type": "markdown",
   "metadata": {},
   "source": [
    "# CH-4. LOOPS"
   ]
  },
  {
   "cell_type": "markdown",
   "metadata": {},
   "source": [
    "## 4.1 While Loop\n",
    "\n",
    " \n",
    "The while loop is like a repeated if statement. The code is executed over and over again, as long as the condition is True. Have another look at its recipe.\n",
    "\n",
    "        while condition :\n",
    "            expression\n",
    "    \n",
    "\n",
    "WL is Numerically calculating model\n",
    "\n",
    "\"repeating action until condition is met”\n",
    "\n",
    "Example:\n",
    "\n",
    "    ● Error starts at 50\n",
    "    ● Divide error by 4 on every run\n",
    "    ● Continue until error no longer > 1"
   ]
  },
  {
   "cell_type": "markdown",
   "metadata": {},
   "source": [
    "**EXERCISE-1: Basic while loop**\n",
    "\n",
    "Create the variable offset with an initial value of 8.\n",
    "\n",
    "Code a while loop that keeps running as long as offset is not equal to 0. \n",
    "\n",
    "Inside the while loop:\n",
    "Print out the sentence \"correcting...\".\n",
    "\n",
    "Next, decrease the value of offset by 1. You can do this with offset = offset - 1.\n",
    "Finally, still within your loop, print out offset so you can see how it changes."
   ]
  },
  {
   "cell_type": "code",
   "execution_count": 1,
   "metadata": {},
   "outputs": [
    {
     "name": "stdout",
     "output_type": "stream",
     "text": [
      "correcting...\n",
      "7\n",
      "correcting...\n",
      "6\n",
      "correcting...\n",
      "5\n",
      "correcting...\n",
      "4\n",
      "correcting...\n",
      "3\n",
      "correcting...\n",
      "2\n",
      "correcting...\n",
      "1\n",
      "correcting...\n",
      "0\n"
     ]
    }
   ],
   "source": [
    "# Initialize offset\n",
    "offset = 8\n",
    "\n",
    "# Code the while loop\n",
    "while offset != 0:\n",
    "    print(\"correcting...\")\n",
    "    offset = offset-1\n",
    "    print(offset)"
   ]
  },
  {
   "cell_type": "markdown",
   "metadata": {},
   "source": [
    "**EXERCISE-2: While Loop + Conditionals**\n",
    "\n",
    "Inside the while loop, complete the if-else statement:\n",
    "\n",
    "If offset is greater than zero, you should decrease offset by 1.\n",
    "\n",
    "Else, you should increase offset by 1.\n",
    "\n",
    "If you've coded things correctly, hitting Submit Answer should work this time."
   ]
  },
  {
   "cell_type": "code",
   "execution_count": 2,
   "metadata": {},
   "outputs": [
    {
     "name": "stdout",
     "output_type": "stream",
     "text": [
      "correcting...\n",
      "-5\n",
      "correcting...\n",
      "-4\n",
      "correcting...\n",
      "-3\n",
      "correcting...\n",
      "-2\n",
      "correcting...\n",
      "-1\n",
      "correcting...\n",
      "0\n"
     ]
    }
   ],
   "source": [
    "# Initialize offset\n",
    "offset = -6\n",
    "\n",
    "# Code the while loop\n",
    "while offset != 0 :\n",
    "    print(\"correcting...\")\n",
    "    if offset>0 :\n",
    "        offset = offset-1\n",
    "    else : \n",
    "        offset = offset +1\n",
    "    print(offset)"
   ]
  },
  {
   "cell_type": "markdown",
   "metadata": {},
   "source": [
    "## 4.2 for loops\n",
    "\n",
    "### 4.2.1 Loop over a list\n",
    "\n",
    "**Exercise-3: for Loops**\n",
    "\n",
    "Write a for loop that iterates over all elements of the areas list and prints out every element separately."
   ]
  },
  {
   "cell_type": "code",
   "execution_count": 3,
   "metadata": {},
   "outputs": [
    {
     "name": "stdout",
     "output_type": "stream",
     "text": [
      "11.25\n",
      "18.0\n",
      "20.0\n",
      "10.75\n",
      "9.5\n"
     ]
    }
   ],
   "source": [
    "# areas list\n",
    "areas = [11.25, 18.0, 20.0, 10.75, 9.50]\n",
    "\n",
    "# Code the for loop\n",
    "for x in areas:\n",
    "    print(x)"
   ]
  },
  {
   "cell_type": "markdown",
   "metadata": {},
   "source": [
    "### 4.2.2 Loop with Indexes and values\n",
    "\n",
    "Using a for loop to iterate over a list only gives you access to every list element in each run, one after the other. \n",
    "\n",
    "If you also want to access the index information, so where the list element you're iterating over is located, you can use `enumerate()`.\n",
    "\n",
    "`enumerate()` produces two values:\n",
    "    \n",
    "    i. the index: placed on the first variable on the for loop\n",
    "    ii. and the value: placed on the second value on the variable list of for loop"
   ]
  },
  {
   "cell_type": "markdown",
   "metadata": {},
   "source": [
    "**Exercise-4: Loop with index**\n",
    "\n",
    "Adapt the for loop in the sample code to use enumerate() and use two iterator variables.\n",
    "\n",
    "Update the print() statement so that on each run, a line of the form \"room x: y\" should be printed, where x is the index of the list element and y is the actual list element, i.e. the area. \n",
    "\n",
    "Make sure to print out this exact string, with the correct spacing."
   ]
  },
  {
   "cell_type": "code",
   "execution_count": 5,
   "metadata": {},
   "outputs": [
    {
     "name": "stdout",
     "output_type": "stream",
     "text": [
      "room0:11.25\n",
      "room1:18.0\n",
      "room2:20.0\n",
      "room3:10.75\n",
      "room4:9.5\n"
     ]
    }
   ],
   "source": [
    "# areas list\n",
    "areas = [11.25, 18.0, 20.0, 10.75, 9.50]\n",
    "\n",
    "# Change for loop to use enumerate() and update print()\n",
    "for index, value in enumerate(areas) :\n",
    "    print(\"room\"+ str(index)+\":\"+str(value))"
   ]
  },
  {
   "cell_type": "markdown",
   "metadata": {},
   "source": [
    "Adapt the print() function in the for loop on the right so that the first printout becomes \n",
    "\n",
    "\"room 1: 11.25\", the second one \"room 2: 18.0\" and so on."
   ]
  },
  {
   "cell_type": "code",
   "execution_count": 6,
   "metadata": {},
   "outputs": [
    {
     "name": "stdout",
     "output_type": "stream",
     "text": [
      "room 1: 11.25\n",
      "room 2: 18.0\n",
      "room 3: 20.0\n",
      "room 4: 10.75\n",
      "room 5: 9.5\n"
     ]
    }
   ],
   "source": [
    "# areas list\n",
    "areas = [11.25, 18.0, 20.0, 10.75, 9.50]\n",
    "\n",
    "# Code the for loop\n",
    "for index, area in enumerate(areas) :\n",
    "    print(\"room \" + str(index+1) + \": \" + str(area))"
   ]
  },
  {
   "cell_type": "markdown",
   "metadata": {},
   "source": [
    "### 4.2.3 Loop over list of lists\n",
    "\n",
    "Remember the house variable from the Intro to Python course? \n",
    "\n",
    "Have a look at its definition on the right. It's basically a list of lists, where each sublist contains the name and area of a room in your house.\n",
    "\n",
    "It's up to you to build a for loop from scratch this time!"
   ]
  },
  {
   "cell_type": "markdown",
   "metadata": {},
   "source": [
    "**Exercise-5: Loop over list of lists**\n",
    "\n",
    "Write a for loop that goes through each sublist of house and prints out the x is y sqm, where x is the name of the room and y is the area of the room."
   ]
  },
  {
   "cell_type": "code",
   "execution_count": 50,
   "metadata": {},
   "outputs": [
    {
     "name": "stdout",
     "output_type": "stream",
     "text": [
      "the kitchen is 18.0 sqm\n",
      "the living room is 20.0 sqm\n",
      "the bedroom is 10.75 sqm\n",
      "the bathroom is 9.5 sqm\n"
     ]
    }
   ],
   "source": [
    "# house list of lists\n",
    "house = [[\"hallway\", 11.25], \n",
    "         [\"kitchen\", 18.0], \n",
    "         [\"living room\", 20.0], \n",
    "         [\"bedroom\", 10.75], \n",
    "         [\"bathroom\", 9.50]]\n",
    "         \n",
    "print(\"the \"+house[1][0]+\" is \"+ str(house[1][1])+\" sqm\") \n",
    "print(\"the \"+house[2][0]+\" is \"+ str(house[2][1])+\" sqm\")\n",
    "print(\"the \"+house[3][0]+\" is \"+ str(house[3][1])+\" sqm\")\n",
    "print(\"the \"+house[4][0]+\" is \"+ str(house[4][1])+\" sqm\")"
   ]
  },
  {
   "cell_type": "code",
   "execution_count": 51,
   "metadata": {},
   "outputs": [
    {
     "name": "stdout",
     "output_type": "stream",
     "text": [
      "the hallway is 11.25 sqm\n",
      "the kitchen is 18.0 sqm\n",
      "the living room is 20.0 sqm\n",
      "the bedroom is 10.75 sqm\n",
      "the bathroom is 9.5 sqm\n"
     ]
    }
   ],
   "source": [
    "for x in house:\n",
    "    print(\"the \" + x[0] + \" is \" + str(x[1]) + \" sqm\")"
   ]
  },
  {
   "cell_type": "markdown",
   "metadata": {},
   "source": [
    "\n",
    "\n",
    "We have already seen how loop works on strings and list. \n",
    "\n",
    "**The question is how about other data structures?**\n",
    "\n",
    "We can use the same forloop construct but the way how we define the sequence depends on the type of data structure at hand.\n",
    "\n",
    "Looping depends on the data structure (dictionary, or numpy array) at hand. \n",
    "\n",
    "\n",
    "To generate items we use `.items()` method for `dictionaries`.\n",
    "\n",
    "To generate items we use `np.nditer()` function for `numpyArrays`."
   ]
  },
  {
   "cell_type": "markdown",
   "metadata": {},
   "source": [
    "### 4.2.4 Loop over dictionary\n",
    "\n",
    "we use `.items()` method\n",
    "\n",
    "In Python 3, we need the `items()` `method` to loop over a `dictionary`."
   ]
  },
  {
   "cell_type": "code",
   "execution_count": 56,
   "metadata": {},
   "outputs": [
    {
     "name": "stdout",
     "output_type": "stream",
     "text": [
      "afghanistan -- 30.55\n",
      "albania -- 2.77\n",
      "algeria -- 39.21\n"
     ]
    }
   ],
   "source": [
    "world = { \"afghanistan\":30.55, \n",
    "          \"albania\":2.77,\n",
    "          \"algeria\":39.21 }\n",
    "\n",
    "for key, value in world.items() :\n",
    "    print(key + \" -- \" + str(value))"
   ]
  },
  {
   "cell_type": "markdown",
   "metadata": {},
   "source": [
    "**Exercise-6: LOOP OVER A DICTIONARY\"**\n",
    "\n",
    "Write a for loop that goes through each key:value pair of europe. \n",
    "\n",
    "On each iteration, \"the capital of x is y\" should be printed out, where x is the key and y is the value of the pair."
   ]
  },
  {
   "cell_type": "code",
   "execution_count": 61,
   "metadata": {},
   "outputs": [
    {
     "name": "stdout",
     "output_type": "stream",
     "text": [
      "the capital of Germanyis: Berlin\n",
      "the capital of Franceis: Paris\n",
      "the capital of Swedenis: Stockholm\n",
      "the capital of Norwayis: Oslo\n"
     ]
    }
   ],
   "source": [
    "# Definition of dictionary\n",
    "europe = {'Germany':'Berlin', 'France':'Paris', 'Sweden':'Stockholm',\n",
    "          'Norway':'Oslo' }\n",
    "          \n",
    "# Iterate over europe\n",
    "for key, value in europe.items():\n",
    "    print(\"the capital of \"+ key +\"is: \"+ value)"
   ]
  },
  {
   "cell_type": "markdown",
   "metadata": {},
   "source": [
    "### 4.2.5 Loop over Numpy array\n",
    "\n",
    " **For a 1D Numpy array:** - looping over all elements can be as simple as:\n",
    "\n",
    "    for x in my_array :\n",
    "        ...\n",
    "        \n",
    "**For a 2D Numpy array:**  it is a bit `more complicated`. \n",
    "\n",
    "A 2D array is built up of multiple 1D arrays. \n",
    "\n",
    "To explicitly iterate over all separate elements of a `multi-dimensional array`, you'll need this syntax:\n",
    "\n",
    "    for x in np.nditer(my_array) :\n",
    "        ...\n",
    "        "
   ]
  },
  {
   "cell_type": "markdown",
   "metadata": {},
   "source": [
    "**EXERCISE -7: LOOP OVER 2D ARRAY**\n",
    "\n",
    "Import the numpy package under the local alias np.\n",
    "\n",
    "1. Write a for loop that iterates over all elements in `np_height` and prints out `\"x inches\"` for each element, where `x is the value` in the array.\n",
    "\n",
    "2. Write a for loop that visits every element of the **meas array** and prints it out."
   ]
  },
  {
   "cell_type": "code",
   "execution_count": 63,
   "metadata": {},
   "outputs": [
    {
     "name": "stdout",
     "output_type": "stream",
     "text": [
      "215 inches\n",
      "195 inches\n",
      "200 inches\n",
      "215 inches\n",
      "229 inches\n",
      "240 inches\n"
     ]
    }
   ],
   "source": [
    "# Import numpy as np\n",
    "import numpy as np\n",
    "np_height = [215, 195, 200, 215, 229, 240]\n",
    "# For loop over np_height\n",
    "for x in np_height:\n",
    "    print(str(x)+\" inches\")"
   ]
  },
  {
   "cell_type": "code",
   "execution_count": 66,
   "metadata": {},
   "outputs": [
    {
     "name": "stdout",
     "output_type": "stream",
     "text": [
      "[[ 1.73  1.68  1.71  1.89  1.79]\n",
      " [65.4  59.2  63.6  88.4  68.7 ]]\n"
     ]
    }
   ],
   "source": [
    "import numpy as np\n",
    "np_height = np.array([1.73, 1.68, 1.71, 1.89, 1.79])\n",
    "np_weight = np.array([65.4, 59.2, 63.6, 88.4, 68.7])\n",
    "meas = np.array([np_height, np_weight])\n",
    "print(meas)"
   ]
  },
  {
   "cell_type": "code",
   "execution_count": 68,
   "metadata": {},
   "outputs": [
    {
     "name": "stdout",
     "output_type": "stream",
     "text": [
      "1.73\n",
      "1.68\n",
      "1.71\n",
      "1.89\n",
      "1.79\n",
      "65.4\n",
      "59.2\n",
      "63.6\n",
      "88.4\n",
      "68.7\n"
     ]
    }
   ],
   "source": [
    "# loop that visits every element of the **meas array** and prints it out.\n",
    "\n",
    "for val in np.nditer(meas):\n",
    "    print(val)"
   ]
  },
  {
   "cell_type": "markdown",
   "metadata": {},
   "source": [
    "### Recap\n",
    "\n",
    "#### Dictionary\n",
    "● for key, val in my_dict.items() \n",
    "\n",
    "#### Numpy array\n",
    "● for val in np.nditer(my_array) :"
   ]
  },
  {
   "cell_type": "markdown",
   "metadata": {},
   "source": [
    "### 4.2.6 Loop on Pandas Data frame"
   ]
  },
  {
   "cell_type": "code",
   "execution_count": 70,
   "metadata": {},
   "outputs": [
    {
     "name": "stdout",
     "output_type": "stream",
     "text": [
      "         country    capital    area  population\n",
      "BR        Brazil   Brasilia   8.516      200.40\n",
      "RU        Russia     Moscow  17.100      143.50\n",
      "IN         India  New Delhi   3.286     1252.00\n",
      "CH         China    Beijing   9.597     1357.00\n",
      "SA  South Africa   Pretoria   1.221       52.98\n"
     ]
    }
   ],
   "source": [
    "import pandas as pd\n",
    "brics = pd.read_csv(\"brics.csv\", index_col =0)\n",
    "print(brics)"
   ]
  },
  {
   "cell_type": "markdown",
   "metadata": {},
   "source": [
    "**I. USING BASIC  FOR LOOP**\n",
    "\n",
    "Simply returns the `column names`"
   ]
  },
  {
   "cell_type": "code",
   "execution_count": 72,
   "metadata": {},
   "outputs": [
    {
     "name": "stdout",
     "output_type": "stream",
     "text": [
      "country\n",
      "capital\n",
      "area\n",
      "population\n"
     ]
    }
   ],
   "source": [
    "for x in brics:\n",
    "    print(x)"
   ]
  },
  {
   "cell_type": "markdown",
   "metadata": {},
   "source": [
    "Well, that's not bad. \n",
    "\n",
    "But what `we want is to iterate over the rows` most of the time.\n",
    "\n",
    "How do we do that??\n",
    "\n",
    "\n",
    "**II. ITERROWS METHOD**\n",
    "\n",
    "iterrows() method generates two pices of data for each iteration. \n",
    "\n",
    "1. The `lebel` of the `row` and \n",
    "    \n",
    "2. The `actual data` in the row as a `panda series`\n",
    "    "
   ]
  },
  {
   "cell_type": "code",
   "execution_count": 84,
   "metadata": {},
   "outputs": [
    {
     "name": "stdout",
     "output_type": "stream",
     "text": [
      "BR\n",
      "RU\n",
      "IN\n",
      "CH\n",
      "SA\n"
     ]
    }
   ],
   "source": [
    "import pandas as pd\n",
    "brics = pd.read_csv(\"brics.csv\", index_col =0)\n",
    "\n",
    "for label, row in brics.iterrows():\n",
    "    print(label)"
   ]
  },
  {
   "cell_type": "code",
   "execution_count": 85,
   "metadata": {},
   "outputs": [
    {
     "name": "stdout",
     "output_type": "stream",
     "text": [
      "country         Brazil\n",
      "capital       Brasilia\n",
      "area             8.516\n",
      "population       200.4\n",
      "Name: BR, dtype: object \n",
      "\n",
      "country       Russia\n",
      "capital       Moscow\n",
      "area            17.1\n",
      "population     143.5\n",
      "Name: RU, dtype: object \n",
      "\n",
      "country           India\n",
      "capital       New Delhi\n",
      "area              3.286\n",
      "population         1252\n",
      "Name: IN, dtype: object \n",
      "\n",
      "country         China\n",
      "capital       Beijing\n",
      "area            9.597\n",
      "population       1357\n",
      "Name: CH, dtype: object \n",
      "\n",
      "country       South Africa\n",
      "capital           Pretoria\n",
      "area                 1.221\n",
      "population           52.98\n",
      "Name: SA, dtype: object \n",
      "\n"
     ]
    }
   ],
   "source": [
    "for label, row in brics.iterrows():\n",
    "    print(row, \"\\n\")"
   ]
  },
  {
   "cell_type": "code",
   "execution_count": 112,
   "metadata": {},
   "outputs": [
    {
     "name": "stdout",
     "output_type": "stream",
     "text": [
      "BR\n",
      "country         Brazil\n",
      "capital       Brasilia\n",
      "area             8.516\n",
      "population       200.4\n",
      "Name: BR, dtype: object \n",
      "\n",
      "RU\n",
      "country       Russia\n",
      "capital       Moscow\n",
      "area            17.1\n",
      "population     143.5\n",
      "Name: RU, dtype: object \n",
      "\n",
      "IN\n",
      "country           India\n",
      "capital       New Delhi\n",
      "area              3.286\n",
      "population         1252\n",
      "Name: IN, dtype: object \n",
      "\n",
      "CH\n",
      "country         China\n",
      "capital       Beijing\n",
      "area            9.597\n",
      "population       1357\n",
      "Name: CH, dtype: object \n",
      "\n",
      "SA\n",
      "country       South Africa\n",
      "capital           Pretoria\n",
      "area                 1.221\n",
      "population           52.98\n",
      "Name: SA, dtype: object \n",
      "\n"
     ]
    }
   ],
   "source": [
    "import pandas as pd\n",
    "brics = pd.read_csv(\"brics.csv\", index_col =0)\n",
    "\n",
    "for label, row in brics.iterrows():\n",
    "    print(label)\n",
    "    print(row, \"\\n\")"
   ]
  },
  {
   "cell_type": "code",
   "execution_count": 126,
   "metadata": {},
   "outputs": [
    {
     "name": "stdout",
     "output_type": "stream",
     "text": [
      "US \n",
      "\n",
      "cars_per_cap              809\n",
      "country         United States\n",
      "drives_right             True\n",
      "Name: US, dtype: object\n",
      "AUS \n",
      "\n",
      "cars_per_cap           31\n",
      "country         Australia\n",
      "drives_right        False\n",
      "Name: AUS, dtype: object\n",
      "JPN \n",
      "\n",
      "cars_per_cap      588\n",
      "country         Japan\n",
      "drives_right    False\n",
      "Name: JPN, dtype: object\n",
      "IN \n",
      "\n",
      "cars_per_cap       18\n",
      "country         India\n",
      "drives_right    False\n",
      "Name: IN, dtype: object\n",
      "RU \n",
      "\n",
      "cars_per_cap       200\n",
      "country         Russia\n",
      "drives_right      True\n",
      "Name: RU, dtype: object\n",
      "MOR \n",
      "\n",
      "cars_per_cap         70\n",
      "country         Morocco\n",
      "drives_right       True\n",
      "Name: MOR, dtype: object\n",
      "EG \n",
      "\n",
      "cars_per_cap       45\n",
      "country         Egypt\n",
      "drives_right     True\n",
      "Name: EG, dtype: object\n"
     ]
    }
   ],
   "source": [
    "for label, row in cars.iterrows():\n",
    "    print(label, \"\\n\")\n",
    "    print(row)"
   ]
  },
  {
   "cell_type": "markdown",
   "metadata": {},
   "source": [
    "#### Selective Print"
   ]
  },
  {
   "cell_type": "code",
   "execution_count": 127,
   "metadata": {},
   "outputs": [
    {
     "name": "stdout",
     "output_type": "stream",
     "text": [
      "         country    capital    area  population\n",
      "BR        Brazil   Brasilia   8.516      200.40\n",
      "RU        Russia     Moscow  17.100      143.50\n",
      "IN         India  New Delhi   3.286     1252.00\n",
      "CH         China    Beijing   9.597     1357.00\n",
      "SA  South Africa   Pretoria   1.221       52.98\n"
     ]
    }
   ],
   "source": [
    "import pandas as pd\n",
    "brics = pd.read_csv(\"brics.csv\", index_col =0)\n",
    "print(brics)"
   ]
  },
  {
   "cell_type": "code",
   "execution_count": 128,
   "metadata": {},
   "outputs": [
    {
     "name": "stdout",
     "output_type": "stream",
     "text": [
      "BR : Brasilia\n",
      "RU : Moscow\n",
      "IN : New Delhi\n",
      "CH : Beijing\n",
      "SA : Pretoria\n"
     ]
    }
   ],
   "source": [
    "#selective print\n",
    "\n",
    "for label, row in brics.iterrows():\n",
    "    print(label,\":\",row[\"capital\"])"
   ]
  },
  {
   "cell_type": "code",
   "execution_count": 129,
   "metadata": {},
   "outputs": [
    {
     "name": "stdout",
     "output_type": "stream",
     "text": [
      "BR : Brazil : Brasilia\n",
      "RU : Russia : Moscow\n",
      "IN : India : New Delhi\n",
      "CH : China : Beijing\n",
      "SA : South Africa : Pretoria\n"
     ]
    }
   ],
   "source": [
    "#selective print\n",
    "\n",
    "for label, row in brics.iterrows():\n",
    "    print(label,\":\",row[\"country\"],\":\",row[\"capital\"] )"
   ]
  },
  {
   "cell_type": "code",
   "execution_count": 130,
   "metadata": {},
   "outputs": [
    {
     "name": "stdout",
     "output_type": "stream",
     "text": [
      "BR : Brazil : Brasilia\n",
      "RU : Russia : Moscow\n",
      "IN : India : New Delhi\n",
      "CH : China : Beijing\n",
      "SA : South Africa : Pretoria\n"
     ]
    }
   ],
   "source": [
    "#selective print\n",
    "\n",
    "for label, row in brics.iterrows():\n",
    "    print(label,\":\",row[\"country\"],\":\",row[\"capital\"] )"
   ]
  },
  {
   "cell_type": "markdown",
   "metadata": {},
   "source": [
    "### ADVANCED STUFF: using loop to modify our data frame\n",
    "\n",
    "Let's say we wanted **to add a column to our data frame** that indicates the number of characters for a country in a  country's column. \n",
    "\n",
    "`How do we add one more column in our data frame using loop?`"
   ]
  },
  {
   "cell_type": "code",
   "execution_count": 153,
   "metadata": {},
   "outputs": [
    {
     "name": "stdout",
     "output_type": "stream",
     "text": [
      "         country    capital    area  population  name_length\n",
      "BR        Brazil   Brasilia   8.516      200.40          6.0\n",
      "RU        Russia     Moscow  17.100      143.50          NaN\n",
      "IN         India  New Delhi   3.286     1252.00          NaN\n",
      "CH         China    Beijing   9.597     1357.00          NaN\n",
      "SA  South Africa   Pretoria   1.221       52.98          NaN\n",
      "\n",
      "         country    capital    area  population  name_length\n",
      "BR        Brazil   Brasilia   8.516      200.40          6.0\n",
      "RU        Russia     Moscow  17.100      143.50          6.0\n",
      "IN         India  New Delhi   3.286     1252.00          NaN\n",
      "CH         China    Beijing   9.597     1357.00          NaN\n",
      "SA  South Africa   Pretoria   1.221       52.98          NaN\n",
      "\n",
      "         country    capital    area  population  name_length\n",
      "BR        Brazil   Brasilia   8.516      200.40          6.0\n",
      "RU        Russia     Moscow  17.100      143.50          6.0\n",
      "IN         India  New Delhi   3.286     1252.00          5.0\n",
      "CH         China    Beijing   9.597     1357.00          NaN\n",
      "SA  South Africa   Pretoria   1.221       52.98          NaN\n",
      "\n",
      "         country    capital    area  population  name_length\n",
      "BR        Brazil   Brasilia   8.516      200.40          6.0\n",
      "RU        Russia     Moscow  17.100      143.50          6.0\n",
      "IN         India  New Delhi   3.286     1252.00          5.0\n",
      "CH         China    Beijing   9.597     1357.00          5.0\n",
      "SA  South Africa   Pretoria   1.221       52.98          NaN\n",
      "\n",
      "         country    capital    area  population  name_length\n",
      "BR        Brazil   Brasilia   8.516      200.40          6.0\n",
      "RU        Russia     Moscow  17.100      143.50          6.0\n",
      "IN         India  New Delhi   3.286     1252.00          5.0\n",
      "CH         China    Beijing   9.597     1357.00          5.0\n",
      "SA  South Africa   Pretoria   1.221       52.98         12.0\n",
      "\n"
     ]
    }
   ],
   "source": [
    "import pandas as pd\n",
    "brics = pd.read_csv(\"brics.csv\", index_col =0)\n",
    "\n",
    "for label, row in brics.iterrows():\n",
    "    brics.loc[label, \"name_length\"] = len(row[\"country\"]) #creating a series on every iteration\n",
    "    print(brics)\n",
    "    print()\n"
   ]
  },
  {
   "cell_type": "markdown",
   "metadata": {},
   "source": [
    "## using `apply()` Function\n",
    "\n",
    "The above method is slow and computationally intensive for a big data. \n",
    "\n",
    "So we can do this using with out iteration using the apply() function.\n",
    "\n",
    "**WAY MORE EFFICIENT** "
   ]
  },
  {
   "cell_type": "code",
   "execution_count": 132,
   "metadata": {},
   "outputs": [
    {
     "name": "stdout",
     "output_type": "stream",
     "text": [
      "         country    capital    area  population  name_length\n",
      "BR        Brazil   Brasilia   8.516      200.40            6\n",
      "RU        Russia     Moscow  17.100      143.50            6\n",
      "IN         India  New Delhi   3.286     1252.00            5\n",
      "CH         China    Beijing   9.597     1357.00            5\n",
      "SA  South Africa   Pretoria   1.221       52.98           12\n"
     ]
    }
   ],
   "source": [
    "import pandas as pd\n",
    "brics = pd.read_csv(\"brics.csv\", index_col = 0)\n",
    "brics[\"name_length\"] = brics[\"country\"].apply(len)\n",
    "print(brics)"
   ]
  },
  {
   "cell_type": "markdown",
   "metadata": {},
   "source": [
    "**EXERCISE-8: Loop over DataFrame**\n",
    "\n",
    "Write a for loop that iterates over the `rows of cars` and on each iteration perform two print() calls: \n",
    "\n",
    "one to print out the row label and \n",
    "\n",
    "one to print out all of the rows contents."
   ]
  },
  {
   "cell_type": "code",
   "execution_count": 122,
   "metadata": {},
   "outputs": [
    {
     "name": "stdout",
     "output_type": "stream",
     "text": [
      "     cars_per_cap        country  drives_right\n",
      "US            809  United States          True\n",
      "AUS            31      Australia         False\n",
      "JPN           588          Japan         False\n",
      "IN             18          India         False\n",
      "RU            200         Russia          True\n",
      "MOR            70        Morocco          True\n",
      "EG             45          Egypt          True\n"
     ]
    }
   ],
   "source": [
    "import pandas as pd\n",
    "cars = pd.read_csv(\"cars.csv\", index_col =0)\n",
    "print(cars)"
   ]
  },
  {
   "cell_type": "code",
   "execution_count": 123,
   "metadata": {},
   "outputs": [
    {
     "name": "stdout",
     "output_type": "stream",
     "text": [
      "US \n",
      "\n",
      "cars_per_cap              809\n",
      "country         United States\n",
      "drives_right             True\n",
      "Name: US, dtype: object\n",
      "AUS \n",
      "\n",
      "cars_per_cap           31\n",
      "country         Australia\n",
      "drives_right        False\n",
      "Name: AUS, dtype: object\n",
      "JPN \n",
      "\n",
      "cars_per_cap      588\n",
      "country         Japan\n",
      "drives_right    False\n",
      "Name: JPN, dtype: object\n",
      "IN \n",
      "\n",
      "cars_per_cap       18\n",
      "country         India\n",
      "drives_right    False\n",
      "Name: IN, dtype: object\n",
      "RU \n",
      "\n",
      "cars_per_cap       200\n",
      "country         Russia\n",
      "drives_right      True\n",
      "Name: RU, dtype: object\n",
      "MOR \n",
      "\n",
      "cars_per_cap         70\n",
      "country         Morocco\n",
      "drives_right       True\n",
      "Name: MOR, dtype: object\n",
      "EG \n",
      "\n",
      "cars_per_cap       45\n",
      "country         Egypt\n",
      "drives_right     True\n",
      "Name: EG, dtype: object\n"
     ]
    }
   ],
   "source": [
    "for label, row in cars.iterrows():\n",
    "    print(label, \"\\n\")\n",
    "    print(row)"
   ]
  },
  {
   "cell_type": "markdown",
   "metadata": {},
   "source": [
    "**EXERCISE-9: Loop over DataFrame: Selective Print**\n",
    "\n",
    "Using the iterators lab and row, adapt the code in the for loop such that:\n",
    "\n",
    "    the first iteration prints out \"US: 809\", \n",
    "    the second iteration \"AUS: 731\", \n",
    "    and so on.\n",
    "\n",
    "\n",
    "The output should be in the form\n",
    "\n",
    "    \"country: cars_per_cap\". \n",
    "\n",
    "Make sure to print out this exact string (with the correct spacing).\n",
    "\n",
    "You can use `str()` to convert your integer data to a string so that you can print it in conjunction with the `country label`."
   ]
  },
  {
   "cell_type": "code",
   "execution_count": 133,
   "metadata": {},
   "outputs": [
    {
     "name": "stdout",
     "output_type": "stream",
     "text": [
      "     cars_per_cap        country  drives_right\n",
      "US            809  United States          True\n",
      "AUS            31      Australia         False\n",
      "JPN           588          Japan         False\n",
      "IN             18          India         False\n",
      "RU            200         Russia          True\n",
      "MOR            70        Morocco          True\n",
      "EG             45          Egypt          True\n"
     ]
    }
   ],
   "source": [
    "import pandas as pd\n",
    "cars = pd.read_csv(\"cars.csv\", index_col =0)\n",
    "print(cars)"
   ]
  },
  {
   "cell_type": "code",
   "execution_count": 138,
   "metadata": {},
   "outputs": [
    {
     "name": "stdout",
     "output_type": "stream",
     "text": [
      "US:809\n",
      "AUS:31\n",
      "JPN:588\n",
      "IN:18\n",
      "RU:200\n",
      "MOR:70\n",
      "EG:45\n"
     ]
    }
   ],
   "source": [
    "for label, row in cars.iterrows():\n",
    "    print(label+\":\"+str(row[\"cars_per_cap\"]))"
   ]
  },
  {
   "cell_type": "markdown",
   "metadata": {},
   "source": [
    "**EXERCISE-10: Loop over DataFrame: Add a new Column**\n",
    "\n",
    "Use a for loop `to add a new column`,\n",
    "\n",
    "    named COUNTRY, that contains a uppercase version of the country names in the \"country\" col. \n",
    "    You can use the string method upper() for this.\n",
    "    \n",
    "To see if your code worked, print out cars. Don't indent this code, so that it's not part of the for loop."
   ]
  },
  {
   "cell_type": "code",
   "execution_count": 143,
   "metadata": {},
   "outputs": [
    {
     "name": "stdout",
     "output_type": "stream",
     "text": [
      "     cars_per_cap        country  drives_right\n",
      "US            809  United States          True\n",
      "AUS            31      Australia         False\n",
      "JPN           588          Japan         False\n",
      "IN             18          India         False\n",
      "RU            200         Russia          True\n",
      "MOR            70        Morocco          True\n",
      "EG             45          Egypt          True\n"
     ]
    }
   ],
   "source": [
    "import pandas as pd\n",
    "cars = pd.read_csv(\"cars.csv\", index_col =0)\n",
    "print(cars)"
   ]
  },
  {
   "cell_type": "code",
   "execution_count": 156,
   "metadata": {},
   "outputs": [
    {
     "name": "stdout",
     "output_type": "stream",
     "text": [
      "     cars_per_cap        country  drives_right        COUNTRY\n",
      "US            809  United States          True  UNITED STATES\n",
      "AUS            31      Australia         False      AUSTRALIA\n",
      "JPN           588          Japan         False          JAPAN\n",
      "IN             18          India         False          INDIA\n",
      "RU            200         Russia          True         RUSSIA\n",
      "MOR            70        Morocco          True        MOROCCO\n",
      "EG             45          Egypt          True          EGYPT\n"
     ]
    }
   ],
   "source": [
    "for label, row in cars.iterrows():\n",
    "    cars.loc[label, \"COUNTRY\"] = row[\"country\"].upper()#creating a series on every iteration\n",
    "print(cars)"
   ]
  },
  {
   "cell_type": "code",
   "execution_count": 159,
   "metadata": {},
   "outputs": [
    {
     "name": "stdout",
     "output_type": "stream",
     "text": [
      "     cars_per_cap        country  drives_right        COUNTRY\n",
      "US            809  United States          True  UNITED STATES\n",
      "AUS            31      Australia         False      AUSTRALIA\n",
      "JPN           588          Japan         False          JAPAN\n",
      "IN             18          India         False          INDIA\n",
      "RU            200         Russia          True         RUSSIA\n",
      "MOR            70        Morocco          True        MOROCCO\n",
      "EG             45          Egypt          True          EGYPT\n"
     ]
    }
   ],
   "source": [
    "import pandas as pd\n",
    "cars = pd.read_csv(\"cars.csv\", index_col = 0)\n",
    "cars[\"COUNTRY\"] = cars[\"country\"].apply(str.upper)\n",
    "print(cars)"
   ]
  },
  {
   "cell_type": "code",
   "execution_count": null,
   "metadata": {},
   "outputs": [],
   "source": []
  }
 ],
 "metadata": {
  "kernelspec": {
   "display_name": "Python 3",
   "language": "python",
   "name": "python3"
  },
  "language_info": {
   "codemirror_mode": {
    "name": "ipython",
    "version": 3
   },
   "file_extension": ".py",
   "mimetype": "text/x-python",
   "name": "python",
   "nbconvert_exporter": "python",
   "pygments_lexer": "ipython3",
   "version": "3.7.4"
  }
 },
 "nbformat": 4,
 "nbformat_minor": 2
}
