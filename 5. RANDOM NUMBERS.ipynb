{
 "cells": [
  {
   "cell_type": "markdown",
   "metadata": {},
   "source": [
    "# CH-5. RANDOM NUMBERS\n",
    "\n",
    "### Random float\n",
    "\n",
    "**Randomness** has many uses in science, art, statistics, cryptography, gaming, gambling, and other fields. \n",
    "\n",
    "You're going to use randomness to simulate a game.\n",
    "\n",
    "All the functionality you need is contained in the `random package`, a `sub-package` of `numpy`. \n",
    "\n",
    "In this exercise, you'll be using two functions from this package:\n",
    "\n",
    "`seed()`: sets the random seed, so that your results are reproducible between simulations. As an argument, it takes an integer of your choosing. \n",
    "\n",
    "\n",
    "If you call the function, no output will be generated.\n",
    "\n",
    "`rand()`: if you don't specify any arguments, it generates a random float between zero and one."
   ]
  },
  {
   "cell_type": "code",
   "execution_count": 1,
   "metadata": {},
   "outputs": [
    {
     "data": {
      "text/plain": [
       "0.6964691855978616"
      ]
     },
     "execution_count": 1,
     "metadata": {},
     "output_type": "execute_result"
    }
   ],
   "source": [
    "# Import numpy as np\n",
    "import numpy as np\n",
    "\n",
    "# Set the seed\n",
    "np.random.seed(123)\n",
    "\n",
    "# Generate and print random float\n",
    "np.random.rand()"
   ]
  },
  {
   "cell_type": "markdown",
   "metadata": {},
   "source": [
    "### Roll the dice\n",
    "\n",
    "In the previous exercise, you used `rand()`, that generates a random float between 0 and 1.\n",
    "\n",
    "As Filip explained in the video you can just as well use `randint()`, also a function of the random package, to generate integers randomly. \n",
    "\n",
    "The following call generates the integer 4, 5, 6 or 7 randomly. 8 is not included.\n",
    "\n",
    "    import numpy as np\n",
    "    np.random.randint(4, 8)\n",
    "    \n",
    "Numpy has already been imported as np and a seed has been set. Can you roll some dice?"
   ]
  },
  {
   "cell_type": "markdown",
   "metadata": {},
   "source": [
    "Use `randint()` with the appropriate arguments to randomly generate the integer 1, 2, 3, 4, 5 or 6. This simulates a dice. Print it out."
   ]
  },
  {
   "cell_type": "code",
   "execution_count": 6,
   "metadata": {},
   "outputs": [
    {
     "name": "stdout",
     "output_type": "stream",
     "text": [
      "6\n"
     ]
    }
   ],
   "source": [
    "# Import numpy and set seed\n",
    "import numpy as np\n",
    "np.random.seed(123)\n",
    "\n",
    "# Use randint() to simulate a dice\n",
    "print(np.random.randint(1,7))\n"
   ]
  },
  {
   "cell_type": "markdown",
   "metadata": {},
   "source": [
    "Repeat the outcome to see if the second throw is different. Again, print out the result."
   ]
  },
  {
   "cell_type": "code",
   "execution_count": 5,
   "metadata": {},
   "outputs": [
    {
     "name": "stdout",
     "output_type": "stream",
     "text": [
      "5\n"
     ]
    }
   ],
   "source": [
    "\n",
    "# Use randint() again\n",
    "print(np.random.randint(1,7))"
   ]
  },
  {
   "cell_type": "markdown",
   "metadata": {},
   "source": [
    "### Determine your next move\n",
    "\n",
    "In the Empire State Building bet, your next move depends on the number of eyes you throw with the dice. We can perfectly code this with an `if-elif-else` construct!\n",
    "\n",
    "The sample code assumes that you're currently at `step 50`. \n",
    "\n",
    "Can you fill in the missing pieces to finish the script? numpy is already imported as np and the seed has been set to 123, so you don't have to worry about that anymore."
   ]
  },
  {
   "cell_type": "code",
   "execution_count": 8,
   "metadata": {},
   "outputs": [],
   "source": [
    "import numpy as np"
   ]
  },
  {
   "cell_type": "code",
   "execution_count": 9,
   "metadata": {},
   "outputs": [],
   "source": [
    "step = 50"
   ]
  },
  {
   "cell_type": "code",
   "execution_count": 12,
   "metadata": {},
   "outputs": [],
   "source": [
    "# Roll the dice. Use randint() to create the variable dice.\n",
    "\n",
    "dice = np.random.randint(1,7)"
   ]
  },
  {
   "cell_type": "markdown",
   "metadata": {},
   "source": [
    "Finish the if-elif-else construct by replacing ___:\n",
    "\n",
    "    If dice is 1 or 2, you go one step down.\n",
    "    if dice is 3, 4 or 5, you go one step up.\n",
    "    Else, you throw the dice again. The number of eyes is the number of steps you go up."
   ]
  },
  {
   "cell_type": "code",
   "execution_count": 14,
   "metadata": {},
   "outputs": [],
   "source": [
    "if dice <= 2 :\n",
    "    step = step - 1\n",
    "elif dice <=5 :\n",
    "    step = step +1\n",
    "else :\n",
    "    step = step + np.random.randint(1,7)"
   ]
  },
  {
   "cell_type": "markdown",
   "metadata": {},
   "source": [
    "Print out dice and step. Given the value of dice, was step updated correctly?"
   ]
  },
  {
   "cell_type": "code",
   "execution_count": 13,
   "metadata": {},
   "outputs": [
    {
     "name": "stdout",
     "output_type": "stream",
     "text": [
      "5 51\n"
     ]
    }
   ],
   "source": [
    "# Print out dice and step\n",
    "print(dice, step)"
   ]
  },
  {
   "cell_type": "code",
   "execution_count": null,
   "metadata": {},
   "outputs": [],
   "source": []
  }
 ],
 "metadata": {
  "kernelspec": {
   "display_name": "Python 3",
   "language": "python",
   "name": "python3"
  },
  "language_info": {
   "codemirror_mode": {
    "name": "ipython",
    "version": 3
   },
   "file_extension": ".py",
   "mimetype": "text/x-python",
   "name": "python",
   "nbconvert_exporter": "python",
   "pygments_lexer": "ipython3",
   "version": "3.7.4"
  }
 },
 "nbformat": 4,
 "nbformat_minor": 2
}
