{
 "cells": [
  {
   "cell_type": "markdown",
   "metadata": {},
   "source": [
    "# Python Lists"
   ]
  },
  {
   "cell_type": "markdown",
   "metadata": {},
   "source": [
    "As opposed to **int**, **bool** etc., a list is a `compound data type` i.e. **you can group values** together:\n",
    "\n",
    "    a = \"is\"\n",
    "    b = \"nice\"\n",
    "    my_list = [\"my\", \"list\", a, b]"
   ]
  },
  {
   "cell_type": "code",
   "execution_count": 1,
   "metadata": {},
   "outputs": [
    {
     "name": "stdout",
     "output_type": "stream",
     "text": [
      "[11.25, 18.0, 20.0, 10.75, 9.5]\n"
     ]
    }
   ],
   "source": [
    "# area variables (in square meters)\n",
    "hall = 11.25\n",
    "kit = 18.0\n",
    "liv = 20.0\n",
    "bed = 10.75\n",
    "bath = 9.50\n",
    "\n",
    "# Create list areas\n",
    "areas = [hall, kit, liv, bed, bath]\n",
    "\n",
    "# Print areas\n",
    "print(areas)"
   ]
  },
  {
   "cell_type": "markdown",
   "metadata": {},
   "source": [
    "#### Create list with different types\n",
    "\n",
    "A list can contain any **Python type**. \n",
    "\n",
    "Although not common, a list can also contain a mix of Python types including strings, floats, booleans, etc."
   ]
  },
  {
   "cell_type": "code",
   "execution_count": 1,
   "metadata": {},
   "outputs": [
    {
     "name": "stdout",
     "output_type": "stream",
     "text": [
      "['hallway', 11.25, 'kitchen', 18.0, 'living room', 20.0, 'bedroom', 10.75, 'bathroom', 9.5, True]\n"
     ]
    }
   ],
   "source": [
    "# area variables (in square meters)\n",
    "hall = 11.25\n",
    "kit = 18.0\n",
    "liv = 20.0\n",
    "bed = 10.75\n",
    "bath = 9.50\n",
    "\n",
    "# Adapt list areas\n",
    "areas = [\"hallway\",hall,\"kitchen\",kit,\"living room\",liv,\"bedroom\", bed, \"bathroom\", bath, True]\n",
    "\n",
    "# Print areas\n",
    "print(areas)"
   ]
  },
  {
   "cell_type": "markdown",
   "metadata": {},
   "source": [
    "### Select the valid list\n",
    "\n",
    "A list **can contain** any Python type. \n",
    "\n",
    "A list itself is also a Python type. That means that a list can also contain a list! \n",
    "\n",
    "        my_list = [el1, el2, el3]"
   ]
  },
  {
   "cell_type": "markdown",
   "metadata": {},
   "source": [
    "### List of lists\n",
    "\n",
    "As a data scientist, you'll often be dealing with a lot of data, and it will **make sense to group some of this data**.\n",
    "\n",
    "Instead of creating a flat list containing strings and floats, representing the names and areas of the rooms in your house, `you can create a list of lists`. The script below can already give you an idea.\n",
    "\n",
    "Don't get confused here: \"hallway\" is a string, while hall is a variable that represents the float 11.25 you specified earlier."
   ]
  },
  {
   "cell_type": "code",
   "execution_count": 4,
   "metadata": {},
   "outputs": [
    {
     "name": "stdout",
     "output_type": "stream",
     "text": [
      "[['hallway', 11.25], ['kitchen', 18.0], ['living room', 20.0], ['bedroom', 10.75], ['bathroom', 9.5]]\n",
      "<class 'list'>\n"
     ]
    }
   ],
   "source": [
    "# area variables (in square meters)\n",
    "hall = 11.25\n",
    "kit = 18.0\n",
    "liv = 20.0\n",
    "bed = 10.75\n",
    "bath = 9.50\n",
    "\n",
    "# house information as list of lists\n",
    "house = [[\"hallway\", hall],\n",
    "         [\"kitchen\", kit],\n",
    "         [\"living room\", liv],\n",
    "         [\"bedroom\", bed],\n",
    "         [\"bathroom\", bath]]\n",
    "\n",
    "# Print out house\n",
    "print(house)\n",
    "\n",
    "# Print out the type of house\n",
    "print(type(house))"
   ]
  },
  {
   "cell_type": "markdown",
   "metadata": {},
   "source": [
    "### Subset and conquer\n",
    "\n",
    "Subsetting Python lists is a piece of cake. \n",
    "\n",
    "Index starts from 0.\n",
    "\n",
    "Thecode sample below creates a list x and then selects \"b\" from it. \n",
    "\n",
    "We can also use negative indexing.\n",
    "\n",
    "    x = [\"a\", \"b\", \"c\", \"d\"]\n",
    "    x[1]\n",
    "    x[-3] # same result!"
   ]
  },
  {
   "cell_type": "code",
   "execution_count": 5,
   "metadata": {},
   "outputs": [
    {
     "name": "stdout",
     "output_type": "stream",
     "text": [
      "11.25\n",
      "9.5\n",
      "20.0\n"
     ]
    }
   ],
   "source": [
    "# Create the areas list\n",
    "areas = [\"hallway\", 11.25, \"kitchen\", 18.0, \"living room\", 20.0, \"bedroom\", 10.75, \"bathroom\", 9.50]\n",
    "\n",
    "# Print out second element from areas\n",
    "print(areas[1])\n",
    "\n",
    "# Print out last element from areas\n",
    "print(areas[-1])\n",
    "\n",
    "# Print out the area of the living room\n",
    "print(areas[5])"
   ]
  },
  {
   "cell_type": "markdown",
   "metadata": {},
   "source": [
    "### Subset and calculate\n",
    "\n",
    "Subsetting - selecting a single value from a list\n",
    "\n",
    "After you've extracted values from a list, you can use them to perform additional calculations. \n",
    "\n",
    "Take this example, where the second and fourth element of a list x are extracted. \n",
    "\n",
    "The strings that result are **pasted together** using the + operator:\n",
    "\n",
    "        x = [\"a\", \"b\", \"c\", \"d\"]\n",
    "        print(x[1] + x[3])"
   ]
  },
  {
   "cell_type": "code",
   "execution_count": 6,
   "metadata": {},
   "outputs": [
    {
     "name": "stdout",
     "output_type": "stream",
     "text": [
      "28.75\n"
     ]
    }
   ],
   "source": [
    "# Create the areas list\n",
    "areas = [\"hallway\", 11.25, \"kitchen\", 18.0, \"living room\", 20.0, \"bedroom\", 10.75, \"bathroom\", 9.50]\n",
    "\n",
    "# Sum of kitchen and bedroom area: eat_sleep_area\n",
    "eat_sleep_area = areas[3] + areas[7]\n",
    "\n",
    "# Print the variable eat_sleep_area\n",
    "print(eat_sleep_area)"
   ]
  },
  {
   "cell_type": "markdown",
   "metadata": {},
   "source": [
    "### Slicing\n",
    "\n",
    "Sliciung : is selecting **multiple elements** from your list. \n",
    "\n",
    "syntax:\n",
    "\n",
    "    my_list[start:end]\n",
    "    \n",
    "The **start index will be included**, while **the end index is not**.\n",
    "\n",
    "The code sample below shows an example. A list with \"b\" and \"c\", corresponding to indexes 1 and 2, are selected from a list x:\n",
    "\n",
    "    x = [\"a\", \"b\", \"c\", \"d\"]\n",
    "    x[1:3]\n",
    "    \n",
    "    results : ['b', 'c']\n",
    "    \n",
    "The elements with index 1 and 2 are included, while the element with index 3 is not."
   ]
  },
  {
   "cell_type": "code",
   "execution_count": 1,
   "metadata": {},
   "outputs": [
    {
     "data": {
      "text/plain": [
       "['b', 'c']"
      ]
     },
     "execution_count": 1,
     "metadata": {},
     "output_type": "execute_result"
    }
   ],
   "source": [
    "x = [\"a\", \"b\", \"c\", \"d\"]\n",
    "y = x[1:3]\n",
    "y"
   ]
  },
  {
   "cell_type": "markdown",
   "metadata": {},
   "source": [
    "### Slicing and dicing (2)\n",
    "\n",
    "It's also possible **not to specify** indexes. \n",
    "\n",
    "If you don't specify the begin index, Python will start your slice at the beginning of the list. \n",
    "\n",
    "If you `don't specify the end index`, the slice `will go all the way to the last element` of your list."
   ]
  },
  {
   "cell_type": "code",
   "execution_count": 2,
   "metadata": {},
   "outputs": [
    {
     "name": "stdout",
     "output_type": "stream",
     "text": [
      "['a', 'b']\n",
      "['c', 'd']\n",
      "['a', 'b', 'c', 'd']\n"
     ]
    }
   ],
   "source": [
    "x = [\"a\", \"b\", \"c\", \"d\"]\n",
    "print(x[:2])\n",
    "print(x[2:])    \n",
    "print(x[:])    "
   ]
  },
  {
   "cell_type": "markdown",
   "metadata": {},
   "source": [
    "### Subsetting lists of lists\n",
    "\n",
    "`To subset lists of lists`, you can use the same technique as before: `square brackets`. \n",
    " \n",
    "results in a list, that you can subset again by adding additional square brackets.\n",
    "\n",
    "The first sq. bracket will access the `outer list` , the second will the `inner`."
   ]
  },
  {
   "cell_type": "code",
   "execution_count": 3,
   "metadata": {},
   "outputs": [
    {
     "name": "stdout",
     "output_type": "stream",
     "text": [
      "g\n",
      "['g', 'h']\n",
      "['g', 'h', 'i']\n"
     ]
    }
   ],
   "source": [
    "x = [[\"a\", \"b\", \"c\"],\n",
    "     [\"d\", \"e\", \"f\"],\n",
    "     [\"g\", \"h\", \"i\"]]\n",
    "print(x[2][0])\n",
    "print(x[2][:2])\n",
    "print(x[2])"
   ]
  },
  {
   "cell_type": "markdown",
   "metadata": {},
   "source": [
    "### Replace list elements\n",
    "\n",
    "To replace a list element:\n",
    "\n",
    "1. subset the list and \n",
    "\n",
    "2. assign new values to the subset. \n",
    "\n",
    "You can select single elements or you can change entire list slices at once."
   ]
  },
  {
   "cell_type": "code",
   "execution_count": 5,
   "metadata": {},
   "outputs": [
    {
     "name": "stdout",
     "output_type": "stream",
     "text": [
      "['a', 'r', 'c', 'd']\n",
      "['a', 'r', 's', 't']\n"
     ]
    }
   ],
   "source": [
    "x = [\"a\", \"b\", \"c\", \"d\"]\n",
    "\n",
    "x[1] = \"r\"\n",
    "print(x)\n",
    "x[2:] = [\"s\", \"t\"]\n",
    "print(x)"
   ]
  },
  {
   "cell_type": "markdown",
   "metadata": {},
   "source": [
    "### Extend a list\n",
    "\n",
    "is to add elements to a list.\n",
    "\n",
    "You can use the **+ operator**."
   ]
  },
  {
   "cell_type": "code",
   "execution_count": 6,
   "metadata": {},
   "outputs": [
    {
     "name": "stdout",
     "output_type": "stream",
     "text": [
      "['a', 'b', 'c', 'd', 'e', 'f']\n"
     ]
    }
   ],
   "source": [
    "x = [\"a\", \"b\", \"c\", \"d\"]\n",
    "y = x + [\"e\", \"f\"]\n",
    "\n",
    "print(y)"
   ]
  },
  {
   "cell_type": "markdown",
   "metadata": {},
   "source": [
    "### Delete list elements\n",
    "\n",
    "To `remove elements` from your list use `del()` function.\n",
    "\n",
    "    x = [\"a\", \"b\", \"c\", \"d\"]\n",
    "    del(x[1])\n",
    "    \n",
    "`Pay attention here:` after deleting an element,  the indexes of the remaining elements will update automatically!"
   ]
  },
  {
   "cell_type": "code",
   "execution_count": 7,
   "metadata": {},
   "outputs": [
    {
     "name": "stdout",
     "output_type": "stream",
     "text": [
      "['a', 'c', 'd']\n"
     ]
    }
   ],
   "source": [
    "x = [\"a\", \"b\", \"c\", \"d\"]\n",
    "del(x[1])\n",
    "print(x)"
   ]
  },
  {
   "cell_type": "markdown",
   "metadata": {},
   "source": [
    "### Copying a list\n",
    "\n",
    "To copy a  list we have can use two techniques:\n",
    "\n",
    "**1. using list() function**\n",
    "    \n",
    "    x_copy=list(x)\n",
    "\n",
    "**2. using .copy() method**\n",
    "\n",
    "    x_copy =x.copy()"
   ]
  },
  {
   "cell_type": "code",
   "execution_count": 12,
   "metadata": {},
   "outputs": [
    {
     "name": "stdout",
     "output_type": "stream",
     "text": [
      "[5.0, 2, 3]\n"
     ]
    }
   ],
   "source": [
    "#wrong way\n",
    "# Create list x\n",
    "x = [1,2,3]\n",
    "\n",
    "# Create x_copy\n",
    "x_copy = x\n",
    "\n",
    "# Modify the copy\n",
    "x_copy[0] = 5.0\n",
    "\n",
    "# Print areas\n",
    "print(x) \n",
    "\n",
    "# the original list remains un affected"
   ]
  },
  {
   "cell_type": "code",
   "execution_count": 13,
   "metadata": {},
   "outputs": [
    {
     "name": "stdout",
     "output_type": "stream",
     "text": [
      "[1, 2, 3]\n"
     ]
    }
   ],
   "source": [
    "# Create list x\n",
    "x = [1,2,3]\n",
    "\n",
    "# Create x_copy\n",
    "x_copy = list(x)\n",
    "\n",
    "# Modify the copy\n",
    "x_copy[0] = 5.0\n",
    "\n",
    "# Print areas\n",
    "print(x) \n",
    "\n",
    "# the original list remains un affected"
   ]
  },
  {
   "cell_type": "code",
   "execution_count": 14,
   "metadata": {},
   "outputs": [
    {
     "name": "stdout",
     "output_type": "stream",
     "text": [
      "['a', 'e', 'i', 'o']\n"
     ]
    }
   ],
   "source": [
    "# Create list x\n",
    "x = ['a','e','i','o']\n",
    "\n",
    "# Create x_copy\n",
    "x_copy = x.copy()\n",
    "\n",
    "# Modify the copy\n",
    "x_copy[0] = 5.0\n",
    "\n",
    "# Print areas\n",
    "print(x) \n",
    "\n",
    "# the original list remains un affected"
   ]
  },
  {
   "cell_type": "markdown",
   "metadata": {},
   "source": [
    "# Functions\n",
    "\n",
    "### Familiar functions\n",
    "\n",
    "Out of the box, Python offers a bunch of `built-in functions`. You already know two such functions: `print()` and `type()`. \n",
    "\n",
    "You've also used the functions `str()`, `int()`, `bool()` and `float()` to switch between data types. \n",
    "\n",
    "\n",
    "The general recipe for calling functions and saving the result to a variable is:\n",
    "\n",
    "    output = function_name(input)\n",
    "    \n",
    "    Note this works only ehn the function has a return type."
   ]
  },
  {
   "cell_type": "code",
   "execution_count": 7,
   "metadata": {},
   "outputs": [
    {
     "name": "stdout",
     "output_type": "stream",
     "text": [
      "<class 'list'>\n",
      "4\n",
      "<class 'int'>\n",
      "1\n"
     ]
    }
   ],
   "source": [
    "# Create variables var1 and var2\n",
    "var1 = [1, 2, 3, 4]\n",
    "var2 = True\n",
    "\n",
    "# Print out type of var1\n",
    "print(type(var1))\n",
    "\n",
    "x = len(var1)\n",
    "# Print out length of var1\n",
    "print(x)\n",
    "print(type(x))\n",
    "\n",
    "# Convert var2 to an integer: out2\n",
    "out2 = int(var2)\n",
    "print(out2)"
   ]
  },
  {
   "cell_type": "markdown",
   "metadata": {},
   "source": [
    "### Help!\n",
    "\n",
    "Maybe you already know the name of a Python function, but you still have to figure out how to use it. \n",
    "\n",
    "To ask for information about a function use:\n",
    "\n",
    "1. help() function  **help(max)** or \n",
    "\n",
    "2. ? before the function name. **?max**"
   ]
  },
  {
   "cell_type": "code",
   "execution_count": 15,
   "metadata": {},
   "outputs": [],
   "source": [
    "?max"
   ]
  },
  {
   "cell_type": "markdown",
   "metadata": {},
   "source": [
    "### Multiple arguments\n",
    "\n",
    "Square brackets is **optional**. \n",
    "\n",
    "### **Default Values**\n",
    "\n",
    "Default values are also optional, we don't need to explicityly specify. \n",
    "\n",
    "e.g.\n",
    "\n",
    "`key=None` means that if you don't specify the key argument, it will be None. \n",
    "\n",
    "`reverse=False` means that if you don't specify the reverse argument, it will be False."
   ]
  },
  {
   "cell_type": "code",
   "execution_count": 14,
   "metadata": {},
   "outputs": [
    {
     "name": "stdout",
     "output_type": "stream",
     "text": [
      "[20.0, 18.0, 11.25, 10.75, 9.5]\n"
     ]
    }
   ],
   "source": [
    "# Create lists first and second\n",
    "first = [11.25, 18.0, 20.0]\n",
    "second = [10.75, 9.50]\n",
    "\n",
    "# Paste together first and second: full\n",
    "full = first + second\n",
    "\n",
    "# Sort full in descending order: full_sorted\n",
    "full_sorted = sorted(full,reverse= True)\n",
    "\n",
    "# Print out full_sorted\n",
    "print(full_sorted)"
   ]
  },
  {
   "cell_type": "markdown",
   "metadata": {},
   "source": [
    "### String Methods\n",
    "\n",
    "Note that each data type has its own **associated method!**\n",
    "\n",
    "Strings come with **a bunch of methods**. \n",
    "\n",
    "e.g \n",
    "    \n",
    "    .upper()\n",
    "    .count()\n",
    "    .lower()\n",
    "    \n",
    "    \n",
    "    etc"
   ]
  },
  {
   "cell_type": "code",
   "execution_count": 15,
   "metadata": {},
   "outputs": [
    {
     "name": "stdout",
     "output_type": "stream",
     "text": [
      "poolhouse\n",
      "POOLHOUSE\n",
      "3\n"
     ]
    }
   ],
   "source": [
    "# string to experiment with: place\n",
    "place = \"poolhouse\"\n",
    "\n",
    "# Use upper() on place: place_up\n",
    "\n",
    "place_up = place.upper()\n",
    "# Print out place and place_up\n",
    "print(place)\n",
    "print(place_up)\n",
    "\n",
    "# Print out the number of o's in place\n",
    "print(place.count('o'))"
   ]
  },
  {
   "cell_type": "markdown",
   "metadata": {},
   "source": [
    "### List Methods\n",
    "\n",
    "Lists, floats, integers and booleans are also types that come packaged with a bunch of useful methods. \n",
    "\n",
    "e.g. list methods\n",
    "\n",
    "    index(), to get the index of the first element of a list that matches its input and\n",
    "    count(), to get the number of times an element appears in a list.\n",
    "    append(), that adds an element to the list it is called on,\n",
    "    remove(), that removes the first element of a list that matches the input, and\n",
    "    reverse(), that reverses the order of the elements in the list it is called on."
   ]
  },
  {
   "cell_type": "code",
   "execution_count": 16,
   "metadata": {},
   "outputs": [
    {
     "name": "stdout",
     "output_type": "stream",
     "text": [
      "2\n",
      "1\n"
     ]
    }
   ],
   "source": [
    "# Create list areas\n",
    "areas = [11.25, 18.0, 20.0, 10.75, 9.50]\n",
    "\n",
    "# Print out the index of the element 20.0\n",
    "print(areas.index(20.0))\n",
    "\n",
    "# Print out how often 9.50 appears in areas\n",
    "print(areas.count(9.50))"
   ]
  },
  {
   "cell_type": "markdown",
   "metadata": {},
   "source": [
    "### Q. What is a Module?\n",
    "\n",
    "Consider a module to be the same as a code library.\n",
    "\n",
    "A file containing a set of functions you want to include in your application.\n",
    "\n",
    "https://www.w3schools.com/python/python_modules.asp\n",
    "\n",
    "### Create a Module\n",
    "\n",
    "To create a module just save the code you want in a file with the file extension .py"
   ]
  },
  {
   "cell_type": "code",
   "execution_count": 17,
   "metadata": {},
   "outputs": [],
   "source": [
    "#Save this as mymodule.py\n",
    "\n",
    "#def greeting(name):\n",
    "  #print(\"Hello, \" + name)"
   ]
  },
  {
   "cell_type": "markdown",
   "metadata": {},
   "source": [
    "### Use a Module\n",
    "Now we can use the module we just created, by using the import statement:"
   ]
  },
  {
   "cell_type": "code",
   "execution_count": 19,
   "metadata": {},
   "outputs": [
    {
     "name": "stdout",
     "output_type": "stream",
     "text": [
      "Hello, Jonathan\n"
     ]
    }
   ],
   "source": [
    "import mymodule\n",
    "\n",
    "mymodule.greeting(\"Jonathan\")"
   ]
  },
  {
   "cell_type": "markdown",
   "metadata": {},
   "source": [
    "### Packages in Python\n",
    "\n",
    "A package is a collection of Python modules and a module is a single Python file.\n",
    "\n",
    "E.g from math package we can import the exact value of pi"
   ]
  },
  {
   "cell_type": "code",
   "execution_count": 22,
   "metadata": {},
   "outputs": [
    {
     "name": "stdout",
     "output_type": "stream",
     "text": [
      "3.141592653589793\n",
      "Circumference: 2.701769682087222\n",
      "Area: 0.5808804816487527\n"
     ]
    }
   ],
   "source": [
    "# Definition of radius\n",
    "r = 0.43\n",
    "\n",
    "# Import the math package\n",
    "import math\n",
    "# Calculate C\n",
    "C = 2* math.pi*r\n",
    "\n",
    "print(math.pi)\n",
    "# Calculate A\n",
    "A = math.pi*(r**2)\n",
    "\n",
    "# Build printout\n",
    "print(\"Circumference: \" + str(C))\n",
    "print(\"Area: \" + str(A))"
   ]
  },
  {
   "cell_type": "markdown",
   "metadata": {},
   "source": [
    "### Selective import\n",
    "\n",
    "General imports, like import math, will import the entire package. \n",
    "\n",
    "However, usually we need few things from a given package, in that case we selectively import a module that we need.\n",
    "\n",
    "e.g import only pi from the math package\n",
    "\n",
    "    from math import pi"
   ]
  },
  {
   "cell_type": "code",
   "execution_count": 23,
   "metadata": {},
   "outputs": [
    {
     "name": "stdout",
     "output_type": "stream",
     "text": [
      "200.79119931179505\n",
      "40317.10572106901\n"
     ]
    }
   ],
   "source": [
    "# Definition of radius\n",
    "r = 192500\n",
    "\n",
    "# Import radians function of math package\n",
    "from math import pi, radians, sqrt\n",
    "\n",
    "# Travel distance of Moon over 12 degrees. Store in dist.\n",
    "dist = r * radians(12)\n",
    "\n",
    "root = sqrt(dist)\n",
    "print(root)\n",
    "# Print out dist\n",
    "print(dist)"
   ]
  },
  {
   "cell_type": "markdown",
   "metadata": {},
   "source": [
    "# Numpy and NumPy Array\n",
    "\n",
    "Numpy is a powerful package to do data science.\n",
    "\n",
    "A list baseball has already been defined in the Python script, representing the height of some baseball players in centimeters. \n",
    "\n",
    "Add some code to create a numpy array from it."
   ]
  },
  {
   "cell_type": "code",
   "execution_count": 27,
   "metadata": {},
   "outputs": [
    {
     "name": "stdout",
     "output_type": "stream",
     "text": [
      "<class 'numpy.ndarray'>\n"
     ]
    }
   ],
   "source": [
    "# Create list baseball\n",
    "baseball = [180, 215, 210, 210, 188, 176, 209, 200]\n",
    "\n",
    "# Import the numpy package as np\n",
    "import numpy as np\n",
    "\n",
    "# Create a numpy array from baseball: np_baseball\n",
    "np_baseball = np.array(baseball)\n",
    "\n",
    "# Print out type of np_baseball\n",
    "print(type(np_baseball))"
   ]
  },
  {
   "cell_type": "markdown",
   "metadata": {},
   "source": [
    "### Generate data\n",
    "\n",
    "    Arguments for np.random.normal()\n",
    "    distribution mean\n",
    "    distribution standard deviation\n",
    "    number of samples"
   ]
  },
  {
   "cell_type": "code",
   "execution_count": 31,
   "metadata": {},
   "outputs": [
    {
     "name": "stdout",
     "output_type": "stream",
     "text": [
      "[1.72 1.82 1.95 1.54 1.78 1.87 2.08 2.02 1.6  2.28]\n",
      "[56.08 76.71 68.71 63.73 63.94 81.57 38.09 54.14 96.17 28.4 ]\n"
     ]
    }
   ],
   "source": [
    "import numpy as np\n",
    "\n",
    "height = np.round(np.random.normal(1.8, 0.2, 5000), 2)\n",
    "weight = np.round(np.random.normal(60.32, 15, 5000), 2)\n",
    "np_city = np.column_stack((height, weight))\n",
    "\n",
    "print(height[0:10])\n",
    "print(weight[0:10])"
   ]
  },
  {
   "cell_type": "code",
   "execution_count": 32,
   "metadata": {},
   "outputs": [
    {
     "name": "stdout",
     "output_type": "stream",
     "text": [
      "[[ 1.72 56.08]\n",
      " [ 1.82 76.71]\n",
      " [ 1.95 68.71]\n",
      " [ 1.54 63.73]\n",
      " [ 1.78 63.94]\n",
      " [ 1.87 81.57]\n",
      " [ 2.08 38.09]\n",
      " [ 2.02 54.14]\n",
      " [ 1.6  96.17]\n",
      " [ 2.28 28.4 ]]\n"
     ]
    }
   ],
   "source": [
    "print(np_city[0:10])"
   ]
  },
  {
   "cell_type": "code",
   "execution_count": 42,
   "metadata": {},
   "outputs": [],
   "source": [
    "?np.random.normal"
   ]
  },
  {
   "cell_type": "markdown",
   "metadata": {},
   "source": [
    "### meter to cm"
   ]
  },
  {
   "cell_type": "code",
   "execution_count": 35,
   "metadata": {},
   "outputs": [
    {
     "name": "stdout",
     "output_type": "stream",
     "text": [
      "[172. 182. 195. ... 171. 175. 173.]\n"
     ]
    }
   ],
   "source": [
    "# height is available as a regular list\n",
    "  \n",
    "# Import numpy\n",
    "import numpy as np\n",
    "\n",
    "# Convert height to height_cm: \n",
    "height_cm = height *100\n",
    "\n",
    "# Print np_height_m\n",
    "print(height_cm)"
   ]
  },
  {
   "cell_type": "markdown",
   "metadata": {},
   "source": [
    "### BMI"
   ]
  },
  {
   "cell_type": "code",
   "execution_count": 36,
   "metadata": {},
   "outputs": [
    {
     "name": "stdout",
     "output_type": "stream",
     "text": [
      "[18.95619254 23.15843497 18.06969099 ... 23.27895763 20.48326531\n",
      " 16.74629958]\n"
     ]
    }
   ],
   "source": [
    "# Import numpy\n",
    "import numpy as np\n",
    "\n",
    "\n",
    "# Calculate the BMI: bmi\n",
    "bmi = weight / (height**2)\n",
    "\n",
    "# Print out bmi\n",
    "print(bmi)"
   ]
  },
  {
   "cell_type": "markdown",
   "metadata": {},
   "source": [
    "### Subsetting Numpy array\n",
    "\n",
    "We can subset numpy arrays the we we substet regular lists. "
   ]
  },
  {
   "cell_type": "code",
   "execution_count": 57,
   "metadata": {},
   "outputs": [
    {
     "data": {
      "text/plain": [
       "9"
      ]
     },
     "execution_count": 57,
     "metadata": {},
     "output_type": "execute_result"
    }
   ],
   "source": [
    "x = [4 , 9 , 6, 3, 1]\n",
    "\n",
    "x[1]\n",
    "    \n",
    "import numpy as np\n",
    "    \n",
    "y = np.array(x)\n",
    "y[1]"
   ]
  },
  {
   "cell_type": "markdown",
   "metadata": {},
   "source": [
    "### Slicing numpy array"
   ]
  },
  {
   "cell_type": "code",
   "execution_count": 58,
   "metadata": {},
   "outputs": [
    {
     "data": {
      "text/plain": [
       "array([1, 2])"
      ]
     },
     "execution_count": 58,
     "metadata": {},
     "output_type": "execute_result"
    }
   ],
   "source": [
    "import numpy as np\n",
    "\n",
    "#slicing works same way as list\n",
    "xx[:2]"
   ]
  },
  {
   "cell_type": "markdown",
   "metadata": {},
   "source": [
    "For numpy we can also use boolean numpy arrays:"
   ]
  },
  {
   "cell_type": "code",
   "execution_count": 44,
   "metadata": {},
   "outputs": [
    {
     "name": "stdout",
     "output_type": "stream",
     "text": [
      "[False  True  True False False]\n",
      "[9 6]\n"
     ]
    }
   ],
   "source": [
    "import numpy as np\n",
    "x = [4 , 9 , 6, 3, 1]\n",
    "\n",
    "y = np.array(x)\n",
    "\n",
    "high = y > 5  # returns boolen series\n",
    "print(high)\n",
    "\n",
    "print(y[high])"
   ]
  },
  {
   "cell_type": "code",
   "execution_count": 38,
   "metadata": {},
   "outputs": [
    {
     "name": "stdout",
     "output_type": "stream",
     "text": [
      "[ True False  True ... False  True  True]\n"
     ]
    }
   ],
   "source": [
    "import numpy as np\n",
    "\n",
    "# Create the light array\n",
    "light = bmi < 21\n",
    "\n",
    "# Print out light\n",
    "print(light)"
   ]
  },
  {
   "cell_type": "code",
   "execution_count": 39,
   "metadata": {},
   "outputs": [
    {
     "name": "stdout",
     "output_type": "stream",
     "text": [
      "[18.95619254 18.06969099 20.18053276 ...  9.83792419 20.48326531\n",
      " 16.74629958]\n"
     ]
    }
   ],
   "source": [
    "# Print out BMIs of all baseball players whose BMI is below 21\n",
    "print(bmi[light])"
   ]
  },
  {
   "cell_type": "markdown",
   "metadata": {},
   "source": [
    "### NumPy Side properties\n",
    "\n",
    "First Numpy arrays cannot contain elements with different types buts list can.\n",
    "\n",
    "If you try to build such a list, some of the elements' types are changed to end up with a homogeneous list. This is known as `type coercion`.\n",
    "\n",
    "Second, the typical arithmetic operators, such as +, -, * are element-wise operations for numpy arrays but for not for lists."
   ]
  },
  {
   "cell_type": "code",
   "execution_count": 47,
   "metadata": {},
   "outputs": [
    {
     "data": {
      "text/plain": [
       "array([4, 5, 2])"
      ]
     },
     "execution_count": 47,
     "metadata": {},
     "output_type": "execute_result"
    }
   ],
   "source": [
    "# type coercion\n",
    "\n",
    "np.array([True, 1, 2]) + np.array([3, 4, False])\n",
    "\n",
    "# boolean focrced into int  value"
   ]
  },
  {
   "cell_type": "code",
   "execution_count": 54,
   "metadata": {},
   "outputs": [
    {
     "name": "stdout",
     "output_type": "stream",
     "text": [
      "[1, 2, 3, 2, 2, 2]\n"
     ]
    },
    {
     "data": {
      "text/plain": [
       "array([3, 4, 5])"
      ]
     },
     "execution_count": 54,
     "metadata": {},
     "output_type": "execute_result"
    }
   ],
   "source": [
    "#numpy arithematic\n",
    "\n",
    "x = [1,2,3]\n",
    "y = [2,2,2]\n",
    "\n",
    "# simply will concatenate or no element wise opration\n",
    "print(x+y)\n",
    "\n",
    "import numpy as np\n",
    "\n",
    "xx = np.array(x)\n",
    "yy = np.array(y)\n",
    "\n",
    "xx+yy # element wise addition"
   ]
  },
  {
   "cell_type": "markdown",
   "metadata": {},
   "source": [
    "### 2D Numpy Arrays"
   ]
  },
  {
   "cell_type": "code",
   "execution_count": 59,
   "metadata": {},
   "outputs": [
    {
     "name": "stdout",
     "output_type": "stream",
     "text": [
      "<class 'numpy.ndarray'>\n",
      "(4, 2)\n",
      "[[180.   78.4]\n",
      " [215.  102.7]\n",
      " [210.   98.5]\n",
      " [188.   75.2]]\n"
     ]
    }
   ],
   "source": [
    "# Create baseball, a list of lists\n",
    "baseball = [[180, 78.4],\n",
    "            [215, 102.7],\n",
    "            [210, 98.5],\n",
    "            [188, 75.2]]\n",
    "\n",
    "# Import numpy\n",
    "import numpy as np\n",
    "\n",
    "# Create a 2D numpy array from baseball: np_baseball\n",
    "np_baseball = np.array(baseball)\n",
    "\n",
    "# Print out the type of np_baseball\n",
    "print(type(np_baseball))\n",
    "\n",
    "# Print out the shape of np_baseball\n",
    "print(np_baseball.shape)\n",
    "\n",
    "print(np_baseball)"
   ]
  },
  {
   "cell_type": "markdown",
   "metadata": {},
   "source": [
    "### Subsetting 2D NumPy Arrays\n",
    "\n",
    "Substetting for regular Python lists is a real pain. \n",
    "\n",
    "For 2D numpy arrays, however, it's pretty intuitive!"
   ]
  },
  {
   "cell_type": "code",
   "execution_count": 63,
   "metadata": {},
   "outputs": [
    {
     "data": {
      "text/plain": [
       "['a', 'c']"
      ]
     },
     "execution_count": 63,
     "metadata": {},
     "output_type": "execute_result"
    }
   ],
   "source": [
    "x = [[\"a\", \"b\"], [\"c\", \"d\"]]\n",
    "[x[0][0], x[1][0]]"
   ]
  },
  {
   "cell_type": "code",
   "execution_count": 67,
   "metadata": {},
   "outputs": [
    {
     "data": {
      "text/plain": [
       "array([['a', 'b'],\n",
       "       ['c', 'd']], dtype='<U1')"
      ]
     },
     "execution_count": 67,
     "metadata": {},
     "output_type": "execute_result"
    }
   ],
   "source": [
    "# using numpy\n",
    "import numpy as np\n",
    "np_x = np.array(x)\n",
    "np_x"
   ]
  },
  {
   "cell_type": "code",
   "execution_count": 69,
   "metadata": {},
   "outputs": [
    {
     "data": {
      "text/plain": [
       "array(['a', 'c'], dtype='<U1')"
      ]
     },
     "execution_count": 69,
     "metadata": {},
     "output_type": "execute_result"
    }
   ],
   "source": [
    "np_x[:,0] # selects all values of the first column"
   ]
  },
  {
   "cell_type": "markdown",
   "metadata": {},
   "source": [
    "### 2D Arithmetic"
   ]
  },
  {
   "cell_type": "code",
   "execution_count": 72,
   "metadata": {},
   "outputs": [
    {
     "data": {
      "text/plain": [
       "array([[ 2,  4],\n",
       "       [ 6,  8],\n",
       "       [10, 12]])"
      ]
     },
     "execution_count": 72,
     "metadata": {},
     "output_type": "execute_result"
    }
   ],
   "source": [
    "import numpy as np\n",
    "np_mat = np.array([[1, 2],[3, 4],[5, 6]])\n",
    "np_mat * 2"
   ]
  },
  {
   "cell_type": "markdown",
   "metadata": {},
   "source": [
    "### Numpy: Basic Statistics\n",
    "\n",
    "One of the big reasons why Numpy arrays are way popular than mere lists is that we can perform statistical calculations on them!\n",
    "\n",
    "### Average versus median"
   ]
  },
  {
   "cell_type": "code",
   "execution_count": 75,
   "metadata": {},
   "outputs": [
    {
     "name": "stdout",
     "output_type": "stream",
     "text": [
      "7.0\n",
      "8.0\n"
     ]
    }
   ],
   "source": [
    "import numpy as np\n",
    "x = [1, 4, 8, 10, 12]\n",
    "print(np.mean(x))\n",
    "print(np.median(x))"
   ]
  },
  {
   "cell_type": "code",
   "execution_count": 77,
   "metadata": {},
   "outputs": [
    {
     "name": "stdout",
     "output_type": "stream",
     "text": [
      "198.25\n",
      "199.0\n"
     ]
    }
   ],
   "source": [
    "import numpy as np\n",
    "# Create np_height_in from np_baseball\n",
    "np_height_in =np.array(np_baseball[:,0])\n",
    "\n",
    "# Print out the mean of np_height_in\n",
    "print(np.mean(np_height_in))\n",
    "\n",
    "# Print out the median of np_height_in\n",
    "print(np.median(np_height_in))"
   ]
  },
  {
   "cell_type": "markdown",
   "metadata": {},
   "source": [
    "### We can explore our data using numpy + some stat"
   ]
  },
  {
   "cell_type": "code",
   "execution_count": 78,
   "metadata": {},
   "outputs": [
    {
     "name": "stdout",
     "output_type": "stream",
     "text": [
      "Average: 198.25\n",
      "Median: 199.0\n",
      "Standard Deviation: 14.635146053251399\n",
      "Correlation: [[1.         0.95865738]\n",
      " [0.95865738 1.        ]]\n"
     ]
    }
   ],
   "source": [
    "# np_baseball is available\n",
    "\n",
    "# Import numpy\n",
    "import numpy as np\n",
    "\n",
    "# Print mean height (first column)\n",
    "avg = np.mean(np_baseball[:,0])\n",
    "print(\"Average: \" + str(avg))\n",
    "\n",
    "# Print median height. Replace 'None'\n",
    "med = np.median(np_baseball[: , 0])\n",
    "print(\"Median: \" + str(med))\n",
    "\n",
    "# Print out the standard deviation on height. Replace 'None'\n",
    "stddev = np.std(np_baseball[: , 0])\n",
    "print(\"Standard Deviation: \" + str(stddev))\n",
    "\n",
    "# Print out correlation between first and second column. Replace 'None'\n",
    "corr = np.corrcoef(np_baseball[: ,0] , np_baseball[: , 1])\n",
    "print(\"Correlation: \" + str(corr))"
   ]
  }
 ],
 "metadata": {
  "kernelspec": {
   "display_name": "Python 3",
   "language": "python",
   "name": "python3"
  },
  "language_info": {
   "codemirror_mode": {
    "name": "ipython",
    "version": 3
   },
   "file_extension": ".py",
   "mimetype": "text/x-python",
   "name": "python",
   "nbconvert_exporter": "python",
   "pygments_lexer": "ipython3",
   "version": "3.7.4"
  }
 },
 "nbformat": 4,
 "nbformat_minor": 2
}
